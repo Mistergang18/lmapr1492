{
 "cells": [
  {
   "cell_type": "code",
   "execution_count": 3,
   "id": "fadbc64a",
   "metadata": {},
   "outputs": [],
   "source": [
    "import numpy as np\n",
    "from mp_api.client import MPRester\n",
    "from pymatgen.core.operations import SymmOp\n",
    "from pymatgen.symmetry.analyzer import SpacegroupAnalyzer\n",
    "from pymatgen.electronic_structure.plotter import BSPlotter\n",
    "from pymatgen.phonon.plotter import PhononBSPlotter\n",
    "from jupyter_jsmol.pymatgen import quick_view\n",
    "from lmapr1492 import plot_brillouin_zone, get_plot_bs, get_plot_dos, get_plot_bs_and_dos, get_branch_wavevectors\n",
    "from plotly.subplots import make_subplots\n",
    "import plotly.graph_objects as go"
   ]
  },
  {
   "cell_type": "code",
   "execution_count": 4,
   "id": "8744c3af",
   "metadata": {},
   "outputs": [],
   "source": [
    "mp_key = \"KcpGNlNwBWUwWN6pcJS1SzDUsDUsCA2z\"\n",
    "mp_id = \"mp-2286\""
   ]
  },
  {
   "cell_type": "code",
   "execution_count": 5,
   "id": "182066b7",
   "metadata": {},
   "outputs": [
    {
     "data": {
      "application/vnd.jupyter.widget-view+json": {
       "model_id": "6dee4b6cccc14c969ab273ee32eca2ee",
       "version_major": 2,
       "version_minor": 0
      },
      "text/plain": [
       "Retrieving MaterialsDoc documents:   0%|          | 0/1 [00:00<?, ?it/s]"
      ]
     },
     "metadata": {},
     "output_type": "display_data"
    },
    {
     "data": {
      "application/vnd.jupyter.widget-view+json": {
       "model_id": "3fa0be7f20cc408fadaaa42e20a36924",
       "version_major": 2,
       "version_minor": 0
      },
      "text/plain": [
       "Retrieving PhononBSDOSDoc documents:   0%|          | 0/1 [00:00<?, ?it/s]"
      ]
     },
     "metadata": {},
     "output_type": "display_data"
    },
    {
     "data": {
      "application/vnd.jupyter.widget-view+json": {
       "model_id": "9f0a428573b54a608c3938d9f24f0abb",
       "version_major": 2,
       "version_minor": 0
      },
      "text/plain": [
       "Retrieving PhononBSDOSDoc documents:   0%|          | 0/1 [00:00<?, ?it/s]"
      ]
     },
     "metadata": {},
     "output_type": "display_data"
    }
   ],
   "source": [
    "with MPRester(mp_key) as m:\n",
    "    prim_struc = m.get_structure_by_material_id(mp_id)\n",
    "    ph_bs = m.get_phonon_bandstructure_by_material_id(mp_id)\n",
    "    ph_dos = m.get_phonon_dos_by_material_id(mp_id)\n",
    "conv_struc = SpacegroupAnalyzer(prim_struc).get_conventional_standard_structure()\n",
    "symmops = SpacegroupAnalyzer(conv_struc).get_space_group_operations()"
   ]
  },
  {
   "cell_type": "code",
   "execution_count": 45,
   "id": "c24d33f2",
   "metadata": {},
   "outputs": [],
   "source": [
    "plot = PhononBSPlotter(ph_bs)\n",
    "data = plot.bs_plot_data()\n",
    "frequency = data[\"frequency\"]\n",
    "dist = data[\"distances\"]"
   ]
  },
  {
   "cell_type": "code",
   "execution_count": 50,
   "id": "0f03c861",
   "metadata": {},
   "outputs": [
    {
     "name": "stdout",
     "output_type": "stream",
     "text": [
      "Vitesse du son pour la branche acoustique 0 : 3112.4230131813374 m/s\n"
     ]
    }
   ],
   "source": [
    "# Première branche acoustique: Γ - X\n",
    "direction = 0\n",
    "band = 0\n",
    "end_wavevector = dist[direction][2]\n",
    "start_wavevector = dist[direction][0]\n",
    "k_dist = (np.linalg.norm(np.subtract(end_wavevector, start_wavevector))) * 1e10\n",
    "end_energy = frequency[direction][band][2]\n",
    "start_energy = frequency[direction][band][0]\n",
    "energy_diff = (end_energy - start_energy) * 2 * np.pi * 10**12\n",
    "slope = energy_diff / k_dist\n",
    "print(\"Vitesse du son pour la branche acoustique 0\", \":\", slope, \"m/s\")"
   ]
  },
  {
   "cell_type": "code",
   "execution_count": 51,
   "id": "fe2cabd4",
   "metadata": {},
   "outputs": [
    {
     "name": "stdout",
     "output_type": "stream",
     "text": [
      "Vitesse du son pour la branche acoustique 1 : 3118.652524358618 m/s\n"
     ]
    }
   ],
   "source": [
    "# Deuxième branche acoustique: K - Γ \n",
    "direction = 3\n",
    "band = 1\n",
    "end_wavevector = dist[direction][-1]\n",
    "start_wavevector = dist[direction][-3]\n",
    "k_dist = (np.linalg.norm(np.subtract(end_wavevector, start_wavevector))) * 1e10\n",
    "end_energy = frequency[direction][band][-1]\n",
    "start_energy = frequency[direction][band][-3]\n",
    "energy_diff = (end_energy - start_energy) * 2 * np.pi * 10**12\n",
    "slope = energy_diff / k_dist\n",
    "print(\"Vitesse du son pour la branche acoustique 1\", \":\", np.abs(slope), \"m/s\")"
   ]
  },
  {
   "cell_type": "code",
   "execution_count": 48,
   "id": "e41c36c8",
   "metadata": {},
   "outputs": [
    {
     "name": "stdout",
     "output_type": "stream",
     "text": [
      "Vitesse du son pour la branche acoustique 2 : 4967.52829188735 m/s\n"
     ]
    }
   ],
   "source": [
    "# Troisième branche acoustique: Γ - L\n",
    "direction = 4\n",
    "band = 2\n",
    "end_wavevector = dist[direction][2]\n",
    "start_wavevector = dist[direction][0]\n",
    "k_dist = (np.linalg.norm(np.subtract(end_wavevector, start_wavevector))) * 1e10\n",
    "end_energy = frequency[direction][band][2]\n",
    "start_energy = frequency[direction][band][0]\n",
    "energy_diff = (end_energy - start_energy) * 2 * np.pi * 10**12\n",
    "slope = energy_diff / k_dist\n",
    "print(\"Vitesse du son pour la branche acoustique 2\", \":\", slope, \"m/s\")"
   ]
  },
  {
   "cell_type": "code",
   "execution_count": null,
   "id": "aafddd20",
   "metadata": {},
   "outputs": [],
   "source": []
  }
 ],
 "metadata": {
  "kernelspec": {
   "display_name": "Python 3 (ipykernel)",
   "language": "python",
   "name": "python3"
  },
  "language_info": {
   "codemirror_mode": {
    "name": "ipython",
    "version": 3
   },
   "file_extension": ".py",
   "mimetype": "text/x-python",
   "name": "python",
   "nbconvert_exporter": "python",
   "pygments_lexer": "ipython3",
   "version": "3.9.13"
  }
 },
 "nbformat": 4,
 "nbformat_minor": 5
}
