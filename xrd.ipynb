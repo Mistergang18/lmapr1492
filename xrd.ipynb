{
 "cells": [
  {
   "cell_type": "code",
   "execution_count": 1,
   "id": "216acd0d",
   "metadata": {},
   "outputs": [],
   "source": [
    "import numpy as np\n",
    "from mp_api.client import MPRester\n",
    "from pymatgen.core.operations import SymmOp\n",
    "from pymatgen.symmetry.analyzer import SpacegroupAnalyzer\n",
    "from pymatgen.electronic_structure.plotter import BSPlotter\n",
    "from pymatgen.phonon.plotter import PhononBSPlotter\n",
    "from jupyter_jsmol.pymatgen import quick_view\n",
    "from lmapr1492 import plot_brillouin_zone, get_plot_bs, get_plot_dos, get_plot_bs_and_dos, get_branch_wavevectors\n",
    "from plotly.subplots import make_subplots\n",
    "import plotly.graph_objects as go"
   ]
  },
  {
   "cell_type": "code",
   "execution_count": 2,
   "id": "8c399789",
   "metadata": {},
   "outputs": [],
   "source": [
    "mp_key = \"KcpGNlNwBWUwWN6pcJS1SzDUsDUsCA2z\"\n",
    "mp_id = \"mp-2286\""
   ]
  },
  {
   "cell_type": "code",
   "execution_count": 3,
   "id": "afe005c4",
   "metadata": {},
   "outputs": [
    {
     "data": {
      "application/vnd.jupyter.widget-view+json": {
       "model_id": "522fabf502d64466aa446d3455b51586",
       "version_major": 2,
       "version_minor": 0
      },
      "text/plain": [
       "Retrieving MaterialsDoc documents:   0%|          | 0/1 [00:00<?, ?it/s]"
      ]
     },
     "metadata": {},
     "output_type": "display_data"
    },
    {
     "data": {
      "application/vnd.jupyter.widget-view+json": {
       "model_id": "3f4bdd362d4d450cbfc741297f74a299",
       "version_major": 2,
       "version_minor": 0
      },
      "text/plain": [
       "Retrieving ElectronicStructureDoc documents:   0%|          | 0/1 [00:00<?, ?it/s]"
      ]
     },
     "metadata": {},
     "output_type": "display_data"
    },
    {
     "data": {
      "application/vnd.jupyter.widget-view+json": {
       "model_id": "3df6b0cd773d4ff9a4f4390a639edcde",
       "version_major": 2,
       "version_minor": 0
      },
      "text/plain": [
       "Retrieving ElectronicStructureDoc documents:   0%|          | 0/1 [00:00<?, ?it/s]"
      ]
     },
     "metadata": {},
     "output_type": "display_data"
    },
    {
     "data": {
      "application/vnd.jupyter.widget-view+json": {
       "model_id": "c631ea5fb1c6401c9737fee9a89dac0c",
       "version_major": 2,
       "version_minor": 0
      },
      "text/plain": [
       "Retrieving PhononBSDOSDoc documents:   0%|          | 0/1 [00:00<?, ?it/s]"
      ]
     },
     "metadata": {},
     "output_type": "display_data"
    },
    {
     "data": {
      "application/vnd.jupyter.widget-view+json": {
       "model_id": "a41887c3635e4ee197babc4eb65a729b",
       "version_major": 2,
       "version_minor": 0
      },
      "text/plain": [
       "Retrieving PhononBSDOSDoc documents:   0%|          | 0/1 [00:00<?, ?it/s]"
      ]
     },
     "metadata": {},
     "output_type": "display_data"
    }
   ],
   "source": [
    "with MPRester(mp_key) as m:\n",
    "    prim_struc = m.get_structure_by_material_id(mp_id)\n",
    "    el_bs = m.get_bandstructure_by_material_id(mp_id)\n",
    "    el_dos = m.get_dos_by_material_id(mp_id)\n",
    "    ph_bs = m.get_phonon_bandstructure_by_material_id(mp_id)\n",
    "    ph_dos = m.get_phonon_dos_by_material_id(mp_id)\n",
    "conv_struc = SpacegroupAnalyzer(prim_struc).get_conventional_standard_structure()\n",
    "symmops = SpacegroupAnalyzer(conv_struc).get_space_group_operations()"
   ]
  },
  {
   "cell_type": "code",
   "execution_count": 4,
   "id": "2b212147",
   "metadata": {},
   "outputs": [],
   "source": [
    "from pymatgen.analysis.diffraction.xrd import * \n",
    "from matplotlib import pyplot as plt \n",
    "from tabulate import tabulate"
   ]
  },
  {
   "cell_type": "code",
   "execution_count": 6,
   "id": "9f82bf1d",
   "metadata": {},
   "outputs": [],
   "source": [
    "xrd = XRDCalculator(symprec=0.1)\n",
    "xrdpattern = xrd.get_pattern(prim_struc)\n",
    "hkls = xrdpattern.hkls"
   ]
  },
  {
   "cell_type": "code",
   "execution_count": 9,
   "id": "35df6c4c",
   "metadata": {},
   "outputs": [
    {
     "name": "stdout",
     "output_type": "stream",
     "text": [
      "pic n°1 :\n",
      "\n",
      "---------------------------------------  ------------------\n",
      "Angle 2θ(en °) :                         25.927767647590677\n",
      "Intensité (en %):                        100.0\n",
      "Indices de Bravais-Miller (h,k,-h-k,l):  (1, 1, 1)\n",
      "Multiplicité :                           8\n",
      "Distance interplanaire :                 3.4364399148519316\n",
      "\n",
      "\n",
      "pic n°2 :\n",
      "\n",
      "---------------------------------------  ------------------\n",
      "Angle 2θ(en °) :                         30.026432553395406\n",
      "Intensité (en %):                        38.76826173802519\n",
      "Indices de Bravais-Miller (h,k,-h-k,l):  (2, 0, 0)\n",
      "Multiplicité :                           6\n",
      "Distance interplanaire :                 2.976044264840606\n",
      "\n",
      "\n",
      "pic n°3 :\n",
      "\n",
      "---------------------------------------  ------------------\n",
      "Angle 2θ(en °) :                         42.98020432619717\n",
      "Intensité (en %):                        47.916060226485165\n",
      "Indices de Bravais-Miller (h,k,-h-k,l):  (2, 2, 0)\n",
      "Multiplicité :                           12\n",
      "Distance interplanaire :                 2.1043810807801258\n",
      "\n",
      "\n"
     ]
    }
   ],
   "source": [
    "#affichage des résultats\n",
    "for i in range(0,3):\n",
    "    print(tabulate([\n",
    "        [\"Angle 2\\u03B8(en \\u00b0) : \",str(xrdpattern.x[i])],\n",
    "        [\"Intensité (en \\u0025): \",str(xrdpattern.y[i])],\n",
    "        [\"Indices de Bravais-Miller (h,k,-h-k,l): \",str(xrdpattern.hkls[i][0]['hkl'])],\n",
    "        [\"Multiplicité : \",str(xrdpattern.hkls[i][0]['multiplicity'])],\n",
    "        [\"Distance interplanaire : \",xrdpattern.d_hkls[i]]],\n",
    "        headers=[\"pic n\\u00b0\"+str(i+1)+\" :\\n\",\"\"]))\n",
    "    print(\"\\n\")"
   ]
  },
  {
   "cell_type": "code",
   "execution_count": null,
   "id": "4af62273",
   "metadata": {},
   "outputs": [],
   "source": []
  }
 ],
 "metadata": {
  "kernelspec": {
   "display_name": "Python 3 (ipykernel)",
   "language": "python",
   "name": "python3"
  },
  "language_info": {
   "codemirror_mode": {
    "name": "ipython",
    "version": 3
   },
   "file_extension": ".py",
   "mimetype": "text/x-python",
   "name": "python",
   "nbconvert_exporter": "python",
   "pygments_lexer": "ipython3",
   "version": "3.9.13"
  }
 },
 "nbformat": 4,
 "nbformat_minor": 5
}
