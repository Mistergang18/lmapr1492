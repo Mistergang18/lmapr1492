{
 "cells": [
  {
   "cell_type": "code",
   "execution_count": 20,
   "id": "2726b94d",
   "metadata": {},
   "outputs": [],
   "source": [
    "import numpy as np\n",
    "from mp_api.client import MPRester\n",
    "from pymatgen.core.operations import SymmOp\n",
    "from pymatgen.symmetry.analyzer import SpacegroupAnalyzer\n",
    "from pymatgen.electronic_structure.plotter import BSPlotter\n",
    "from pymatgen.phonon.plotter import PhononBSPlotter\n",
    "from jupyter_jsmol.pymatgen import quick_view\n",
    "from lmapr1492 import plot_brillouin_zone, get_plot_bs, get_plot_dos, get_plot_bs_and_dos, get_branch_wavevectors\n",
    "from plotly.subplots import make_subplots\n",
    "import plotly.graph_objects as go"
   ]
  },
  {
   "cell_type": "code",
   "execution_count": 21,
   "id": "85162332",
   "metadata": {},
   "outputs": [],
   "source": [
    "mp_key = \"KcpGNlNwBWUwWN6pcJS1SzDUsDUsCA2z\"\n",
    "mp_id = \"mp-2286\""
   ]
  },
  {
   "cell_type": "code",
   "execution_count": 22,
   "id": "d8e1b9b7",
   "metadata": {},
   "outputs": [
    {
     "data": {
      "application/vnd.jupyter.widget-view+json": {
       "model_id": "4dc8df21b71e48b49e038b451c8de5b2",
       "version_major": 2,
       "version_minor": 0
      },
      "text/plain": [
       "Retrieving MaterialsDoc documents:   0%|          | 0/1 [00:00<?, ?it/s]"
      ]
     },
     "metadata": {},
     "output_type": "display_data"
    },
    {
     "data": {
      "application/vnd.jupyter.widget-view+json": {
       "model_id": "400d04cc1f86411fb502fa5bc7a4c56b",
       "version_major": 2,
       "version_minor": 0
      },
      "text/plain": [
       "Retrieving ElectronicStructureDoc documents:   0%|          | 0/1 [00:00<?, ?it/s]"
      ]
     },
     "metadata": {},
     "output_type": "display_data"
    },
    {
     "data": {
      "application/vnd.jupyter.widget-view+json": {
       "model_id": "d83f9a29abb84fbcaca8d86561eb676b",
       "version_major": 2,
       "version_minor": 0
      },
      "text/plain": [
       "Retrieving ElectronicStructureDoc documents:   0%|          | 0/1 [00:00<?, ?it/s]"
      ]
     },
     "metadata": {},
     "output_type": "display_data"
    },
    {
     "data": {
      "application/vnd.jupyter.widget-view+json": {
       "model_id": "a3188c0eaca3434685151d06c5200f20",
       "version_major": 2,
       "version_minor": 0
      },
      "text/plain": [
       "Retrieving PhononBSDOSDoc documents:   0%|          | 0/1 [00:00<?, ?it/s]"
      ]
     },
     "metadata": {},
     "output_type": "display_data"
    },
    {
     "data": {
      "application/vnd.jupyter.widget-view+json": {
       "model_id": "5a49980ab0264912b27a7b35eb041eda",
       "version_major": 2,
       "version_minor": 0
      },
      "text/plain": [
       "Retrieving PhononBSDOSDoc documents:   0%|          | 0/1 [00:00<?, ?it/s]"
      ]
     },
     "metadata": {},
     "output_type": "display_data"
    }
   ],
   "source": [
    "with MPRester(mp_key) as m:\n",
    "    prim_struc = m.get_structure_by_material_id(mp_id)\n",
    "    el_bs = m.get_bandstructure_by_material_id(mp_id)\n",
    "    el_dos = m.get_dos_by_material_id(mp_id)\n",
    "    ph_bs = m.get_phonon_bandstructure_by_material_id(mp_id)\n",
    "    ph_dos = m.get_phonon_dos_by_material_id(mp_id)\n",
    "conv_struc = SpacegroupAnalyzer(prim_struc).get_conventional_standard_structure()\n",
    "symmops = SpacegroupAnalyzer(conv_struc).get_space_group_operations()"
   ]
  },
  {
   "cell_type": "code",
   "execution_count": 23,
   "id": "383a0498",
   "metadata": {},
   "outputs": [
    {
     "name": "stdout",
     "output_type": "stream",
     "text": [
      "Rot:\n",
      "[[-1.  0.  0.]\n",
      " [ 0. -1.  0.]\n",
      " [ 0.  0. -1.]]\n",
      "tau\n",
      "[0. 0. 0.]\n"
     ]
    }
   ],
   "source": [
    "#Première symétrie -> symétrie centrale avec le centre de la maille\n",
    "i_atom = 1 #atome mauve de Li \n",
    "i_symmop = 2 #'-x, -y, -z' \n",
    "symmop = symmops[i_symmop - 1]\n",
    "print(symmop)"
   ]
  },
  {
   "cell_type": "code",
   "execution_count": 24,
   "id": "09f1b838",
   "metadata": {},
   "outputs": [
    {
     "name": "stdout",
     "output_type": "stream",
     "text": [
      "[0.25 0.25 0.75]\n"
     ]
    }
   ],
   "source": [
    "#Position initiale de l'atome considéré\n",
    "pos_init = conv_struc.sites[i_atom -1].frac_coords\n",
    "print(pos_init)"
   ]
  },
  {
   "cell_type": "code",
   "execution_count": 25,
   "id": "1c96a464",
   "metadata": {},
   "outputs": [
    {
     "name": "stdout",
     "output_type": "stream",
     "text": [
      "[-0.25 -0.25 -0.75]\n"
     ]
    }
   ],
   "source": [
    "#Position finale de l'atome considéré\n",
    "pos_final = symmop.operate(pos_init)\n",
    "print(pos_final)"
   ]
  },
  {
   "cell_type": "code",
   "execution_count": 26,
   "id": "7a5b250e",
   "metadata": {},
   "outputs": [
    {
     "data": {
      "application/vnd.jupyter.widget-view+json": {
       "model_id": "ed05e10fb4aa4709bb031b8a58da40c2",
       "version_major": 2,
       "version_minor": 0
      },
      "text/plain": [
       "JsmolView(layout=Layout(align_self='stretch', height='400px'))"
      ]
     },
     "metadata": {},
     "output_type": "display_data"
    }
   ],
   "source": [
    "#Représentation de la première symétrie\n",
    "view = quick_view(conv_struc, \"packed\", conventional = True)\n",
    "display(view)\n",
    "view.script('draw SYMOP ' + str(i_symmop) + ' {atomno = ' + str(i_atom) + '}')"
   ]
  },
  {
   "cell_type": "code",
   "execution_count": 27,
   "id": "282b3adc",
   "metadata": {},
   "outputs": [
    {
     "name": "stdout",
     "output_type": "stream",
     "text": [
      "Rot:\n",
      "[[0. 0. 1.]\n",
      " [1. 0. 0.]\n",
      " [0. 1. 0.]]\n",
      "tau\n",
      "[0. 0. 0.]\n"
     ]
    }
   ],
   "source": [
    "#Deuxième symétrie -> rotation de 90° autour de l'axe (0,0,1)\n",
    "i_atom = 10 #atome orange de Se au centre d'une face\n",
    "i_symmop = 17 #'z, x, y'\n",
    "symmop = symmops[i_symmop - 1]\n",
    "print(symmop)"
   ]
  },
  {
   "cell_type": "code",
   "execution_count": 28,
   "id": "9c2e00a6",
   "metadata": {},
   "outputs": [
    {
     "name": "stdout",
     "output_type": "stream",
     "text": [
      "[0.  0.5 0.5]\n"
     ]
    }
   ],
   "source": [
    "#Position initiale de l'atome considéré\n",
    "pos_init = conv_struc.sites[i_atom -1].frac_coords\n",
    "print(pos_init)"
   ]
  },
  {
   "cell_type": "code",
   "execution_count": 29,
   "id": "0af38f0a",
   "metadata": {},
   "outputs": [
    {
     "name": "stdout",
     "output_type": "stream",
     "text": [
      "[0.5 0.  0.5]\n"
     ]
    }
   ],
   "source": [
    "#Position finale de l'atome considéré\n",
    "pos_final = symmop.operate(pos_init)\n",
    "print(pos_final)"
   ]
  },
  {
   "cell_type": "code",
   "execution_count": 32,
   "id": "b7dd1b9c",
   "metadata": {},
   "outputs": [
    {
     "data": {
      "application/vnd.jupyter.widget-view+json": {
       "model_id": "06d8a9bd8b374ac9a1f65c3afe8a61b6",
       "version_major": 2,
       "version_minor": 0
      },
      "text/plain": [
       "JsmolView(layout=Layout(align_self='stretch', height='400px'))"
      ]
     },
     "metadata": {},
     "output_type": "display_data"
    }
   ],
   "source": [
    "#Représentation de la deuxième symétrie\n",
    "view = quick_view(conv_struc, \"packed\", conventional = True)\n",
    "display(view)\n",
    "view.script('draw SYMOP ' + str(i_symmop) + ' {atomno = ' + str(i_atom) + '}')"
   ]
  },
  {
   "cell_type": "code",
   "execution_count": 33,
   "id": "b1792c17",
   "metadata": {},
   "outputs": [
    {
     "name": "stdout",
     "output_type": "stream",
     "text": [
      "Rot:\n",
      "[[1. 0. 0.]\n",
      " [0. 1. 0.]\n",
      " [0. 0. 1.]]\n",
      "tau\n",
      "[0.5 0.5 0. ]\n"
     ]
    }
   ],
   "source": [
    "#Troisième symétrie -> translation\n",
    "i_atom = 3 #atome mauve de Li\n",
    "i_symmop = 49 #'x+1/2, y+1/2, z'\n",
    "symmop = symmops[i_symmop - 1]\n",
    "print(symmop)"
   ]
  },
  {
   "cell_type": "code",
   "execution_count": 34,
   "id": "1d7f0244",
   "metadata": {},
   "outputs": [
    {
     "name": "stdout",
     "output_type": "stream",
     "text": [
      "[0.25 0.75 0.25]\n"
     ]
    }
   ],
   "source": [
    "#Position initiale de l'atome considéré\n",
    "pos_init = conv_struc.sites[i_atom -1].frac_coords\n",
    "print(pos_init)"
   ]
  },
  {
   "cell_type": "code",
   "execution_count": 35,
   "id": "074a12fc",
   "metadata": {},
   "outputs": [
    {
     "name": "stdout",
     "output_type": "stream",
     "text": [
      "[0.75 1.25 0.25]\n"
     ]
    }
   ],
   "source": [
    "#Position finale de l'atome considéré\n",
    "pos_final = symmop.operate(pos_init)\n",
    "print(pos_final)"
   ]
  },
  {
   "cell_type": "code",
   "execution_count": 36,
   "id": "1d9f4bee",
   "metadata": {},
   "outputs": [
    {
     "data": {
      "application/vnd.jupyter.widget-view+json": {
       "model_id": "9afd05d7bd6b4ec789b9dffd3549bed2",
       "version_major": 2,
       "version_minor": 0
      },
      "text/plain": [
       "JsmolView(layout=Layout(align_self='stretch', height='400px'))"
      ]
     },
     "metadata": {},
     "output_type": "display_data"
    }
   ],
   "source": [
    "#Représentation de la troisième symétrie\n",
    "view = quick_view(conv_struc, \"packed\", conventional = True)\n",
    "display(view)\n",
    "view.script('draw SYMOP ' + str(i_symmop) + ' {atomno = ' + str(i_atom) + '}')"
   ]
  },
  {
   "cell_type": "code",
   "execution_count": null,
   "id": "b67133a5",
   "metadata": {},
   "outputs": [],
   "source": []
  }
 ],
 "metadata": {
  "kernelspec": {
   "display_name": "Python 3 (ipykernel)",
   "language": "python",
   "name": "python3"
  },
  "language_info": {
   "codemirror_mode": {
    "name": "ipython",
    "version": 3
   },
   "file_extension": ".py",
   "mimetype": "text/x-python",
   "name": "python",
   "nbconvert_exporter": "python",
   "pygments_lexer": "ipython3",
   "version": "3.9.13"
  }
 },
 "nbformat": 4,
 "nbformat_minor": 5
}
